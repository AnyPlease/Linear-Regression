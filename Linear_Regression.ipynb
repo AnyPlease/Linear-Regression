{
 "cells": [
  {
   "cell_type": "markdown",
   "source": [
    "$\\color{green}{\\text{This notebook is best viewed in jupyter notebook}}$"
   ],
   "metadata": {}
  },
  {
   "cell_type": "markdown",
   "source": [
    "## Linear Regression\n",
    "\n",
    "_Linear regression_, as the name implies, finds the _best fit line_ (in high-dimensional spaces, plane/hyperplane) between the _independent_ and _dependent_ variable (i.e., input data and target output). Recall that we approach the univariate linear regression in the class first and build up our way to multi-variate input/output forms. Univariate linear regression describes the situation where only one independent variable is presented (i.e., $x \\in \\mathbb{R}$) and the model has to find the linear relationship of it with the dependent variable (i.e., $y$). In the multivariate form, we have more than one independent variable (i.e., $\\boldsymbol{x} \\in \\mathbb{R}^n$) and the model may have multiple outputs to predict (i.e., $\\boldsymbol{y} \\in \\mathbb{R}^p$). <br> \n",
    "If you want to have a quick wrap-up, check the following Wikipedia article:\n",
    "[Linear Regression](https://en.wikipedia.org/wiki/Linear_regression)"
   ],
   "metadata": {}
  },
  {
   "cell_type": "markdown",
   "source": [
    "<!-- <p float=\"left\">\n",
    "    <img src=\"img/linear_regression_s.png\" alt=\"LR_s\" width=\"49%\"/>\n",
    "    <img src=\"img/linear_regression_m.png\" alt=\"LR_m\" width=\"49%\"/> \n",
    "</p> -->\n",
    "<p float=\"center\">\n",
    "    <img src=\"img/linear_regression_both.png\" alt=\"LR_s\" width=\"100%\"/>\n",
    "    <br>\n",
    "&emsp;&emsp;&emsp;&emsp;&emsp;&emsp;&emsp;&emsp;&emsp;&emsp;  <em>Simple Linear Regression</em>\n",
    "&emsp;&emsp;&emsp;&emsp;&emsp;&emsp;&emsp;&emsp;&emsp;&emsp;&emsp;&emsp;&emsp;&emsp;&emsp;&emsp;&emsp;&emsp;&emsp;&emsp;&emsp;&emsp;  <em>Multiple Linear Regression</em>\n",
    "</p>\n",
    "\n",
    "As shown in the figure, linear regression can be understood as finding the _best-fitting straight line_ (or _plane_ in multidimensional cases) through the training examples. This best-fitting line is also called the **regression line**, and the vertical lines from the regression line to the training examples are the so-called **offsets** or **residuals** — the errors of our prediction.\n"
   ],
   "metadata": {}
  },
  {
   "cell_type": "code",
   "execution_count": 1,
   "source": [
    "# As always, we first import several libraries that will be helpful to solve the tasks\n",
    "import matplotlib.pyplot as plt\n",
    "import numpy as np\n",
    "from mpl_toolkits.mplot3d import Axes3D\n",
    "from matplotlib import cm\n",
    "import time"
   ],
   "outputs": [],
   "metadata": {}
  },
  {
   "cell_type": "markdown",
   "source": [
    "**Loading the data**"
   ],
   "metadata": {}
  },
  {
   "cell_type": "code",
   "execution_count": 2,
   "source": [
    "# === Task1 ===\n",
    "# Alcohol data: task1_alc.npy\n",
    "# BMI data:     task1_bmi.npy\n",
    "# GDP data:     task1_gdp.npy\n",
    "# Life expect.: task1_lifeexpt.npy\n",
    "\n",
    "# Load data from drive\n",
    "# Shape of all data -> (73,1); m -> 73; n -> 1\n",
    "alcoholData = np.load(\"data/task1_alc.npy\")\n",
    "bmiData = np.load(\"data/task1_bmi.npy\")\n",
    "gdpData = np.load(\"data/task1_gdp.npy\")\n",
    "lifeExpectData = np.load(\"data/task1_lifeexpt.npy\")"
   ],
   "outputs": [],
   "metadata": {}
  },
  {
   "cell_type": "markdown",
   "source": [
    "#### 1. Regression function"
   ],
   "metadata": {}
  },
  {
   "cell_type": "code",
   "execution_count": 3,
   "source": [
    "def linearRegression_cof(X, Y):\n",
    "    bias = np.ones(alcoholData.shape)\n",
    "    X = np.append(bias,X,axis=1)\n",
    "    coeff1 = np.matmul(np.transpose(X),X)\n",
    "    coeff2 = np.matmul(np.transpose(X),Y)\n",
    "    W = np.matmul(np.linalg.inv(coeff1),coeff2)\n",
    "    return W"
   ],
   "outputs": [],
   "metadata": {}
  },
  {
   "cell_type": "markdown",
   "source": [
    "#### 2. Obtaining regression coefficients for _Alcohol_"
   ],
   "metadata": {}
  },
  {
   "cell_type": "code",
   "execution_count": 4,
   "source": [
    "# Obtain coefficients\n",
    "W_alcohol = linearRegression_cof(alcoholData,lifeExpectData)\n",
    "\n",
    "# Print coefficients:\n",
    "print(f\"w[0] = {W_alcohol[0]} | w[1] = {W_alcohol[1]}\")"
   ],
   "outputs": [
    {
     "output_type": "stream",
     "name": "stdout",
     "text": [
      "w[0] = [63.13011473] | w[1] = [0.96682896]\n"
     ]
    }
   ],
   "metadata": {}
  },
  {
   "cell_type": "markdown",
   "source": [
    "#### 3. Obtaining regression coefficients for _BMI_"
   ],
   "metadata": {}
  },
  {
   "cell_type": "code",
   "execution_count": 5,
   "source": [
    "# Obtain coefficients\n",
    "W_BMI = linearRegression_cof(bmiData,lifeExpectData)\n",
    "\n",
    "# Print coefficients:\n",
    "print(f\"w[0] = {W_BMI[0]} | w[1] = {W_BMI[1]}\")"
   ],
   "outputs": [
    {
     "output_type": "stream",
     "name": "stdout",
     "text": [
      "w[0] = [60.74884974] | w[1] = [0.19073734]\n"
     ]
    }
   ],
   "metadata": {}
  },
  {
   "cell_type": "markdown",
   "source": [
    "#### 4. & 5. Predicting the Life Expectancy"
   ],
   "metadata": {}
  },
  {
   "cell_type": "markdown",
   "source": [
    "Write a function **predict()**, which takes a data point $\\boldsymbol{x}_q$ and coefficients $\\boldsymbol{w}$ and return the prediction $\\hat{y} = \\boldsymbol{w}^\\top \\boldsymbol{x}_q$."
   ],
   "metadata": {}
  },
  {
   "cell_type": "code",
   "execution_count": 6,
   "source": [
    "def predict(X, w):\n",
    "    bias = np.ones((X.shape[0],1))\n",
    "    X = np.append(bias,X, axis=1)\n",
    "    \n",
    "    return np.matmul(X,w)"
   ],
   "outputs": [],
   "metadata": {}
  },
  {
   "cell_type": "code",
   "execution_count": 7,
   "source": [
    "#Display the scatter results as well as the best-fit line (Scatter data and line in the same plot to see the 'fit' quality) \n",
    "# i.e. one (sub)plot for Alcohol, one (sub)plot for BMI\n",
    "\n",
    "x_label = [\"Alcohol Consumption(Liters)\", \"BMI\"]\n",
    "W = [W_alcohol, W_BMI]\n",
    "X = [alcoholData, bmiData]\n",
    "plt.figure(figsize=(12,5))\n",
    "for i in range(2):\n",
    "    plt.subplot(1,2,i+1)\n",
    "    y_predict = predict(X[i],W[i])\n",
    "    plt.scatter(X[i],lifeExpectData)\n",
    "    plt.plot(X[i],y_predict,color=\"r\",label=f\"Best Fit line.\")\n",
    "    plt.xlabel(x_label[i])\n",
    "    plt.ylabel(\"Life Expectancy\")\n",
    "    plt.title(f\"Life Expectancy vs {x_label[i]}\")\n",
    "    plt.legend()"
   ],
   "outputs": [
    {
     "output_type": "display_data",
     "data": {
      "image/png": "[encoded data removed]",
      "text/plain": [
       "<Figure size 864x360 with 2 Axes>"
      ]
     },
     "metadata": {
      "needs_background": "light"
     }
    }
   ],
   "metadata": {}
  },
  {
   "cell_type": "markdown",
   "source": [
    "#### 6. Data interpretation"
   ],
   "metadata": {}
  },
  {
   "cell_type": "markdown",
   "source": [
    "#### 1. Obtaining coefficients for multiple linear regression (on training data from Task 1)"
   ],
   "metadata": {}
  },
  {
   "cell_type": "code",
   "execution_count": 9,
   "source": [
    "# Obtain coefficients\n",
    "X_half = np.append(bmiData, alcoholData, axis=1)\n",
    "dataAll= np.append(X_half, gdpData, axis=1)\n",
    "\n",
    "W_multi = linearRegression_cof(dataAll,lifeExpectData)\n",
    "# Print coefficients:\n",
    "print(f\"w[0] = {W_multi[0][0]} | w[1] = {W_multi[1][0]} | w[2] = {W_multi[2][0]} | w[3] = {W_multi[3][0]}\")"
   ],
   "outputs": [
    {
     "output_type": "stream",
     "name": "stdout",
     "text": [
      "[[1.72000000e+01 1.00000000e-02 6.35372310e+01]\n",
      " [6.20000000e+01 9.34000000e+00 2.50000000e+00]\n",
      " [1.58000000e+01 1.00000000e-02 8.35789341e+02]\n",
      " [2.35000000e+01 1.40000000e+00 8.25942785e+02]\n",
      " [4.99000000e+01 3.93000000e+00 1.20000000e+00]\n",
      " [5.37000000e+01 4.64000000e+00 5.51568340e+01]\n",
      " [1.71000000e+01 4.51000000e+00 6.66842783e+02]\n",
      " [1.66000000e+01 4.16000000e+00 2.64799730e+01]\n",
      " [2.56000000e+01 3.13000000e+00 6.10000000e+00]\n",
      " [2.82000000e+01 5.07000000e+00 3.67429453e+02]\n",
      " [1.70000000e+01 2.12000000e+00 8.82491462e+02]\n",
      " [2.70000000e+00 1.66000000e+00 4.94336779e+02]\n",
      " [1.75000000e+01 5.60000000e-01 9.89236363e+02]\n",
      " [2.21000000e+01 1.20000000e-01 8.29758688e+02]\n",
      " [2.50000000e+01 3.82000000e+00 8.00000000e+00]\n",
      " [5.84000000e+01 4.14000000e+00 6.75924360e+02]\n",
      " [6.40000000e+01 1.24300000e+01 1.90000000e+00]\n",
      " [3.80000000e+00 3.39000000e+00 5.20000000e+00]\n",
      " [1.96000000e+01 1.82000000e+00 1.20000000e+00]\n",
      " [3.27000000e+01 3.90000000e-01 1.43986898e+02]\n",
      " [5.78000000e+01 2.20000000e-01 2.90000000e+00]\n",
      " [1.65000000e+01 6.20000000e-01 5.82775532e+02]\n",
      " [1.60000000e+01 1.32000000e+00 3.54846354e+02]\n",
      " [2.48000000e+01 3.41000000e+00 8.00000000e+00]\n",
      " [4.47000000e+01 7.84000000e+00 7.41484380e+02]\n",
      " [2.12000000e+01 2.20000000e-01 4.59291200e+02]\n",
      " [2.37000000e+01 3.57000000e+00 6.92699890e+02]\n",
      " [4.76000000e+01 3.10000000e+00 2.12584798e+02]\n",
      " [5.48000000e+01 3.00000000e-02 7.90000000e+00]\n",
      " [5.12000000e+01 3.58000000e+00 5.13549487e+02]\n",
      " [6.24000000e+01 4.30000000e-01 3.87324145e+02]\n",
      " [1.95000000e+01 1.80000000e+00 9.87445397e+02]\n",
      " [4.14000000e+01 3.28000000e+00 3.20000000e+00]\n",
      " [1.87000000e+01 5.39000000e+00 9.20000000e+00]\n",
      " [2.50000000e+01 3.72000000e+00 3.79689583e+02]\n",
      " [6.90000000e+00 1.00000000e-02 5.62549434e+02]\n",
      " [1.85000000e+01 9.70000000e-01 4.54963464e+02]\n",
      " [1.80000000e+01 1.23000000e+00 5.12125451e+02]\n",
      " [3.63000000e+01 5.10000000e-01 1.45126200e+02]\n",
      " [2.13000000e+01 6.10000000e-01 8.35889980e+02]\n",
      " [6.70000000e+01 1.89000000e+00 2.00000000e-01]\n",
      " [5.46000000e+01 5.40000000e-01 3.39916160e+02]\n",
      " [2.90000000e+00 9.40000000e-01 5.26531352e+02]\n",
      " [3.25000000e+01 7.84000000e+00 5.69713920e+01]\n",
      " [1.69000000e+01 2.70000000e-01 6.92116684e+02]\n",
      " [1.77000000e+01 1.50000000e-01 3.75581987e+02]\n",
      " [5.49000000e+01 6.90000000e+00 9.27723171e+02]\n",
      " [4.57000000e+01 8.80000000e-01 1.77867119e+02]\n",
      " [3.00000000e+00 9.34000000e+00 1.50000000e+00]\n",
      " [5.90000000e+00 9.45000000e+00 2.80000000e+00]\n",
      " [5.77000000e+01 9.10000000e+00 9.22778250e+01]\n",
      " [1.89000000e+01 8.34000000e+00 6.17317648e+02]\n",
      " [4.45000000e+01 1.04300000e+01 4.30000000e+00]\n",
      " [5.30000000e+00 7.02000000e+00 3.50000000e+00]\n",
      " [2.77000000e+01 5.69000000e+00 1.34326189e+02]\n",
      " [2.22000000e+01 3.20000000e-01 1.82532100e+01]\n",
      " [2.22000000e+01 3.78000000e+00 4.45525000e+02]\n",
      " [5.65000000e+01 1.02400000e+01 1.20000000e+00]\n",
      " [4.79000000e+01 7.38000000e+00 8.49954224e+02]\n",
      " [2.50000000e+00 3.03000000e+00 3.22992615e+02]\n",
      " [3.74000000e+01 3.20000000e-01 8.34541295e+02]\n",
      " [5.79000000e+01 1.16000000e+00 2.20000000e+00]\n",
      " [1.58000000e+01 5.00000000e-01 1.14561790e+02]\n",
      " [2.20000000e+01 1.44000000e+00 5.62339359e+02]\n",
      " [7.33000000e+01 9.60000000e-01 4.45188660e+02]\n",
      " [1.67000000e+01 1.02200000e+01 5.84396214e+02]\n",
      " [4.00000000e+00 1.06800000e+01 5.00000000e-01]\n",
      " [2.13000000e+01 4.04000000e+00 7.00000000e+00]\n",
      " [6.75000000e+01 8.67000000e+00 7.00000000e-01]\n",
      " [5.99000000e+01 6.74000000e+00 1.60000000e+00]\n",
      " [1.47000000e+01 3.94000000e+00 1.44000000e+01]\n",
      " [3.79000000e+01 4.00000000e-02 1.37000000e+01]\n",
      " [2.99000000e+01 6.00000000e+00 8.39927936e+02]]\n",
      "w[0] = 61.07529735415551 | w[1] = 0.15446317988527936 | w[2] = 0.6899123964741065 | w[3] = -0.005295425619905203\n"
     ]
    }
   ],
   "metadata": {}
  },
  {
   "cell_type": "markdown",
   "source": [
    "#### 2. Computing the Error to evaluate the performance of the linear regression models"
   ],
   "metadata": {}
  },
  {
   "cell_type": "code",
   "execution_count": null,
   "source": [
    "#Compute the sum squared error\n",
    "def compute_sse(y_estimate, y): \n",
    "\n",
    "    return np.sum((y_estimate-y)**2)"
   ],
   "outputs": [],
   "metadata": {}
  },
  {
   "cell_type": "markdown",
   "source": [
    "#### 3. Evaluating on unseen test data"
   ],
   "metadata": {}
  },
  {
   "cell_type": "code",
   "execution_count": null,
   "source": [
    "# Load the test data for this task: Australia, year 2002\n",
    "# Test BMI data:     task2_AU2002_test_bmi.npy\n",
    "# Test Alcohol data: task2_AU2002_test_alc.npy\n",
    "# Test GDP data:     task2_AU2002_test_gdp.npy\n",
    "# Test Life expect.: task2_AU2002_test_lifeexpt.npy\n",
    "\n",
    "# Important: Be careful NOT to confuse your training and test data! \n",
    "# Training data is for fitting the model, test data for evaluation only!\n",
    "\n",
    "# Load the test data from drive\n",
    "testBMIData = np.reshape(np.load(\"data/task2_AU2002_test_bmi.npy\"),(1,1))\n",
    "testAlcoholData = np.reshape(np.load(\"data/task2_AU2002_test_alc.npy\"),(1,1))\n",
    "testGDPData = np.reshape(np.load(\"data/task2_AU2002_test_gdp.npy\"),(1,1))\n",
    "testLifeExpect = np.reshape(np.load(\"data/task2_AU2002_test_lifeexpt.npy\"),(1,1))\n",
    "\n",
    "testData = np.array([[testBMIData[0,0], testAlcoholData[0,0], testGDPData[0,0]]])\n",
    "\n",
    "#Our data trained on train data, from task 1. We take trained weights and test with unseen data."
   ],
   "outputs": [],
   "metadata": {}
  },
  {
   "cell_type": "markdown",
   "source": [
    "##### a) $L_{\\text{SE}}$ when trained on $X=$ 'BMI'  (Coeficients from Task 1)"
   ],
   "metadata": {}
  },
  {
   "cell_type": "code",
   "execution_count": null,
   "source": [
    "# Compute L_SSE\n",
    "y_predict = predict(testAlcoholData,W_alcohol)\n",
    "loss = compute_sse(testLifeExpect,y_predict)\n",
    "\n",
    "# Print L_SSE\n",
    "print(loss)"
   ],
   "outputs": [],
   "metadata": {}
  },
  {
   "cell_type": "markdown",
   "source": [
    "##### b) $L_{\\text{SE}}$ when trained on $X_1=$ 'BMI', $X_2=$ 'Alcohol' and $X_3=$ 'GDP'    (Coeficients from Task 1)"
   ],
   "metadata": {}
  },
  {
   "cell_type": "code",
   "execution_count": null,
   "source": [
    "# Compute L_SSE\n",
    "y_predict = predict(testData,W_multi)\n",
    "loss = compute_sse(testLifeExpect,y_predict)\n",
    "\n",
    "# Print L_SSE\n",
    "print(loss)"
   ],
   "outputs": [],
   "metadata": {}
  },
  {
   "cell_type": "markdown",
   "source": [
    "#### 1. Loading and displaying data"
   ],
   "metadata": {}
  },
  {
   "cell_type": "code",
   "execution_count": null,
   "source": [
    "# === Task3 ===\n",
    "# Training set: Original images:    train_face_clean.npy\n",
    "# Training set: Corrupted images:   train_face_crpt.npy\n",
    "# Test set: Original images:        test_face_clean.npy\n",
    "# Test set: Corrupted images:       test_face_crpt.npy\n",
    "\n",
    "# Load data from drive\n",
    "\n",
    "\n",
    "# Lets see what the corrupted training data looks like\n",
    "# --> Visualise image[5] of the corrupted train and image[8] of the corrupted test set (feel free to check others as well)\n",
    "train_clean = np.load(\"data/train_face_clean.npy\") # 185 Images -> 62x47\n",
    "train_corrupt = np.load(\"data/train_face_crpt.npy\") # 185 Images -> 62x47\n",
    "test_clean = np.load(\"data/test_face_clean.npy\") # 88 Images -> 62x47\n",
    "test_corrupt = np.load(\"data/test_face_crpt.npy\") # 88 Images -> 62x47\n",
    "plt.subplot(1,2,1)\n",
    "plt.imshow(train_corrupt[5],cmap='gray')\n",
    "plt.subplot(1,2,2)\n",
    "plt.imshow(test_corrupt[8],cmap='gray')"
   ],
   "outputs": [],
   "metadata": {}
  },
  {
   "cell_type": "markdown",
   "source": [
    "#### 2. Fitting the regression model / Determining the parameters"
   ],
   "metadata": {}
  },
  {
   "cell_type": "code",
   "execution_count": null,
   "source": [
    "# Implement regression_fit() \n",
    "def regression_fit(samples_X, samples_Y):\n",
    "    # input arguments: \n",
    "    #    samples_X: training samples\n",
    "    #    samples_Y: training 'labels' (uncorrupted/clean samples)\n",
    "    # output:\n",
    "    #    reg_cof: regression coefficients (parameters)\n",
    "    \n",
    "    reg_cof = np.matmul(np.linalg.pinv(samples_X),samples_Y)\n",
    "\n",
    "    return reg_cof"
   ],
   "outputs": [],
   "metadata": {}
  },
  {
   "cell_type": "code",
   "execution_count": null,
   "source": [
    "# Retrieve the regression parameters\n",
    "train_clean_reshape = np.reshape(train_clean,(train_clean.shape[0],(train_clean.shape[1]*train_clean.shape[2])))\n",
    "train_corrupt_reshape = np.reshape(train_corrupt,(train_corrupt.shape[0],(train_corrupt.shape[1]*train_corrupt.shape[2])))\n",
    "reg_cof = regression_fit(train_corrupt_reshape,train_clean_reshape)"
   ],
   "outputs": [],
   "metadata": {}
  },
  {
   "cell_type": "markdown",
   "source": [
    "#### 3. Completing the corrupted images of the unseen test data by using linear regression to predict the missing pixels"
   ],
   "metadata": {}
  },
  {
   "cell_type": "code",
   "execution_count": null,
   "source": [
    "# Predict the missing pixels for all test images\n",
    "def predict_2(samples, reg_cof):\n",
    "    # input arguments: \n",
    "    #    samples: np.array with image data, shape (N, h, w)\n",
    "    #    reg_cof: regression coefficients / parameters\n",
    "    # output:\n",
    "    #    rest_samples: restored samples -- np.array with image data, shape (N, h, w)\n",
    "    shape = samples.shape\n",
    "    samples = np.reshape(samples,(samples.shape[0],(samples.shape[1]*samples.shape[2])))\n",
    "    product = np.matmul(samples,reg_cof)\n",
    "    rest_samples = np.reshape(product,(shape))\n",
    "    \n",
    "    return rest_samples"
   ],
   "outputs": [],
   "metadata": {}
  },
  {
   "cell_type": "code",
   "execution_count": null,
   "source": [
    "# Predict / Restore images of the test set\n",
    "reconstructedImages_test = predict_2(test_corrupt, reg_cof)\n",
    "# Display the reconstructed versions of the previously chosen corrupted test image alongside the original and corrupted one\n",
    "# (Side-by-side plot of all three images: 'Clean test img', 'Corrupted test img', 'Restored test img')\n",
    "i = 8\n",
    "plt.subplot(1,3,1)\n",
    "plt.title(\"Test Clean\")\n",
    "plt.imshow(test_clean[i],cmap='gray')\n",
    "plt.subplot(1,3,2)\n",
    "plt.title(\"Test Corrupted\")\n",
    "plt.imshow(test_corrupt[i],cmap='gray')\n",
    "plt.subplot(1,3,3)\n",
    "plt.title(\"Restored Test Image\")\n",
    "plt.imshow(reconstructedImages_test[i],cmap='gray')"
   ],
   "outputs": [],
   "metadata": {}
  },
  {
   "cell_type": "markdown",
   "source": [
    "#### 4. Completing the corrupted training images via linear regression"
   ],
   "metadata": {}
  },
  {
   "cell_type": "code",
   "execution_count": null,
   "source": [
    "# Predict / Restore images of the training set\n",
    "reconstructedImages_train = predict_2(train_corrupt, reg_cof)\n",
    "\n",
    "# Display the reconstructed versions of the previously chosen corrupted test image alongside the original and corrupted one\n",
    "# (Side-by-side plot of all three images: 'Clean train img', 'Corrupted train img', 'Restored train img')\n",
    "i = 5\n",
    "plt.subplot(1,3,1)\n",
    "plt.title(\"Train Clean\")\n",
    "plt.imshow(train_clean[i],cmap='gray')\n",
    "plt.subplot(1,3,2)\n",
    "plt.title(\"Train Corrupted\")\n",
    "plt.imshow(train_corrupt[i],cmap='gray')\n",
    "plt.subplot(1,3,3)\n",
    "plt.title(\"Restored Test Image\")\n",
    "plt.imshow(reconstructedImages_train[i],cmap='gray')\n"
   ],
   "outputs": [],
   "metadata": {}
  },
  {
   "cell_type": "markdown",
   "source": [
    "#### 1. PSNR Implementation"
   ],
   "metadata": {}
  },
  {
   "cell_type": "code",
   "execution_count": null,
   "source": [
    "## Implement PSNR to measure quantitative difference\n",
    "def PSNR(img1, img2):\n",
    "    # img1 = clean data / I - noise free Image\n",
    "    # img2 = corrupted data / K - noisy approximation.\n",
    "    mse = (np.sum(np.sum((img1 - img2)**2))) / (img1.shape[0] * img1.shape[1])\n",
    "    psnr = 20 * np.log10(255) - 10 * np.log10(mse)\n",
    "    return psnr"
   ],
   "outputs": [],
   "metadata": {}
  },
  {
   "cell_type": "markdown",
   "source": [
    "#### 2. Calculate the PSNR for the 9th test image (i.e., image[8]) from Task 3: corrupted image and restored version"
   ],
   "metadata": {}
  },
  {
   "cell_type": "code",
   "execution_count": null,
   "source": [
    "# Compute and print the PSNR values for the 9th test image: Both for corrupted 'raw' version and restored version\n",
    "psnr_1 = PSNR(test_clean[8],reconstructedImages_test[8])\n",
    "psnr_2 = PSNR(test_clean[8],test_corrupt[8])\n",
    "print(f\"PSNR for Restored Image = {psnr_1} dB | PSNR for Corrupted Image = {psnr_2} dB\")\n"
   ],
   "outputs": [],
   "metadata": {}
  },
  {
   "cell_type": "markdown",
   "source": [
    "#### 3. Load new data corrupted with random patterns\n"
   ],
   "metadata": {}
  },
  {
   "cell_type": "code",
   "execution_count": null,
   "source": [
    "# Load data from drive\n",
    "# Train images corrupted with random pattern: train_face_crpt_rdm.npy\n",
    "# Test  images corrupted with random pattern: test_face_crpt_rdm.npy\n",
    "rmd_train_corrupt = np.load(\"data/train_face_crpt_rdm.npy\")\n",
    "rmd_test_corrupt = np.load(\"data/test_face_crpt_rdm.npy\")\n",
    "rmd_train_corrupt_RESHAPE = np.reshape(rmd_train_corrupt,(rmd_train_corrupt.shape[0],(rmd_train_corrupt.shape[1]*rmd_train_corrupt.shape[2])))\n",
    "rmd_test_corrupt_RESHAPE = np.reshape(rmd_test_corrupt,(rmd_test_corrupt.shape[0],(rmd_test_corrupt.shape[1]*rmd_test_corrupt.shape[2])))\n",
    "# Lets see what the corrupted training data looks like\n",
    "# --> Visualise image[5] of the corrupted train and image[8] of the corrupted test set (but feel free to check others as well)\n",
    "plt.subplot(1,2,1)\n",
    "plt.title(\"Corrupt Train\")\n",
    "plt.imshow(rmd_train_corrupt[5],cmap='gray')\n",
    "plt.subplot(1,2,2)\n",
    "plt.title(\"Corrupt Test\")\n",
    "plt.imshow(rmd_test_corrupt[8],cmap='gray')"
   ],
   "outputs": [],
   "metadata": {}
  },
  {
   "cell_type": "markdown",
   "source": [
    "#### 4. Repeat regression fit and prediction on new data"
   ],
   "metadata": {}
  },
  {
   "cell_type": "code",
   "execution_count": null,
   "source": [
    "# Retrieve the regression coefficients to reconstruct images from corrupted ones\n",
    "reg_cof = regression_fit(rmd_train_corrupt_RESHAPE,train_clean_reshape)"
   ],
   "outputs": [],
   "metadata": {}
  },
  {
   "cell_type": "code",
   "execution_count": null,
   "source": [
    "# Restore all corrupted test images\n",
    "reconstructedImages_task4 = predict_2(rmd_test_corrupt,reg_cof)"
   ],
   "outputs": [],
   "metadata": {}
  },
  {
   "cell_type": "code",
   "execution_count": null,
   "source": [
    "# Display the results on the randomly corrupted test image[8]: Compare 'clean', 'corrupted' and 'restored'\n",
    "i = 8\n",
    "plt.subplot(1,3,1)\n",
    "plt.title(\"Clean\")\n",
    "plt.imshow(test_clean[i],cmap='gray')\n",
    "plt.subplot(1,3,2)\n",
    "plt.title(\"Corrupted\")\n",
    "plt.imshow(rmd_test_corrupt[i],cmap='gray')\n",
    "plt.subplot(1,3,3)\n",
    "plt.title(\"Restored\")\n",
    "plt.imshow(reconstructedImages_task4[i],cmap='gray')"
   ],
   "outputs": [],
   "metadata": {}
  },
  {
   "cell_type": "markdown",
   "source": [
    "#### 5. Calculate the PSNR for the 9th test image (i.e., image[8]): corrupted image and restored version"
   ],
   "metadata": {}
  },
  {
   "cell_type": "code",
   "execution_count": null,
   "source": [
    "# Compute and print the PSNR values for the 9th test image (random corruption pattern): \n",
    "# Both for corrupted 'raw' version and restored version\n",
    "psnr_1 = PSNR(test_clean[8],reconstructedImages_test[8])\n",
    "psnr_2 = PSNR(test_clean[8],rmd_test_corrupt[8])\n",
    "\n",
    "print(f\"PSNR for Restored Image = {psnr_1} dB | PSNR for Corrupted Image = {psnr_2} dB\")\n"
   ],
   "outputs": [],
   "metadata": {}
  }
 ],
 "metadata": {
  "interpreter": {
   "hash": "1653499ac8a773aac91c0e03719c1f11642bbdebf62506b357b07b944bb99091"
  },
  "kernelspec": {
   "display_name": "Python 3",
   "language": "python",
   "name": "python3"
  },
  "language_info": {
   "codemirror_mode": {
    "name": "ipython",
    "version": 3
   },
   "file_extension": ".py",
   "mimetype": "text/x-python",
   "name": "python",
   "nbconvert_exporter": "python",
   "pygments_lexer": "ipython3",
   "version": "3.8.8"
  }
 },
 "nbformat": 4,
 "nbformat_minor": 2
}